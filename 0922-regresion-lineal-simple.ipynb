{
 "cells": [
  {
   "cell_type": "markdown",
   "metadata": {},
   "source": [
    "## Ajuste de curvas\n",
    "#### Regresión lineal simple"
   ]
  },
  {
   "cell_type": "markdown",
   "metadata": {},
   "source": [
    "Este modelo considera sólo una variable independiente $x$ y una variable dependiente $y$, y supone que la relación subyacente entre la variable independiente y dependiente es lineal, es decir, \\\n",
    "$y = a_0 + a_1 x$, \\\n",
    "Podemos estimar el valor de $a_0$ y $a_1$ mediante el Método  de mínimos cuadrados. \n",
    "\n",
    "$\\chi^2(a_0,a_1) = \\sum_{i = 1} ^{N} \\epsilon_{i}^{2} = \\sum_{i} ^ N (y_i - a_0 + a_1 x_i)^2$,"
   ]
  },
  {
   "cell_type": "markdown",
   "metadata": {},
   "source": [
    "Una manera de cuantificar la dispersión de los datos en torno del modelo es calcular la deviación estándar\n",
    "$S_{Y/x} = \\sqrt\\frac{S_r}{N-2}$, \\\n",
    "con  \n",
    "$S_r = \\sum_{i=1} ^ N (y_i - a_0 + a_1 x_i)^2$"
   ]
  },
  {
   "cell_type": "markdown",
   "metadata": {},
   "source": [
    "Además, el coficiente de determinación $r^2$ es definido por: \\\n",
    "$r^2 = \\frac{S_t - S_r}{S_t}$\n",
    "\n",
    "\n",
    "\n",
    "donde:\n",
    "\n",
    "$S_t = \\sum_{i=1} ^N (y_i - \\overline y)^2$,  \n",
    "\n",
    "   $S_r = \\sum_{i=1} ^ N (y_i - a_0 + a_1 x_i)^2$.\n"
   ]
  },
  {
   "cell_type": "markdown",
   "metadata": {},
   "source": [
    "Así $r^2$ cuatifica la mejora del ajuste respecto del promedio y lo normaliza respecto a las deviaciones de la media $S_t$.\n",
    "\n",
    "Si $r^2 = 1$, la recta obtenida pasa exactamente por todos los puntos ajustados.\n",
    "\n",
    "Si $r^2 = 0$, significa que el modelo no representa ninguna mejora respecto del ajuste.\n",
    "\n",
    "Notar que si $r^2$ se acerca a 1, se recomienda graficar los residuos con el propósito de intentar identificar algún patrón entre ellos, o en su defecto pueden considerarse como aleatorios."
   ]
  },
  {
   "cell_type": "markdown",
   "metadata": {},
   "source": [
    "#### Ejemplo: \n"
   ]
  },
  {
   "cell_type": "code",
   "execution_count": 5,
   "metadata": {},
   "outputs": [],
   "source": [
    "#Importamos los módulos que vamos a utilizar.\n",
    "import numpy as np\n",
    "import matplotlib.pyplot as plt\n",
    "plt.style.use(\"bmh\")"
   ]
  },
  {
   "cell_type": "code",
   "execution_count": 6,
   "metadata": {},
   "outputs": [],
   "source": [
    "tiempo = np.genfromtxt(\"../datos txt/carro-plano-01.txt\", usecols=0)\n",
    "posicion = np.genfromtxt(\"../datos txt/carro-plano-01.txt\", usecols=1)"
   ]
  },
  {
   "cell_type": "code",
   "execution_count": 13,
   "metadata": {},
   "outputs": [],
   "source": [
    "#Definimos la siguiente función que depende de x0 y v.\n",
    "def g(x0, v):\n",
    "   tt = np.linspace(0,3, 100)   #tt: variable independiente\n",
    "   xx = x0 + v*tt               #xx: variable dependiente\n",
    "\n",
    "\n",
    "   plt.plot(tt, xx)\n",
    "   plt.scatter(tiempo, posicion) #Gráfico posición vs tiempo.\n",
    "   \n",
    "   plt.xlim(0,3) \n",
    "   plt.ylim(0, 1.3)\n",
    "   plt.xlabel(\"$t [s]$\")\n",
    "\n",
    "   chi2= np.sum((x0 + v*tiempo - posicion)**2) #Método.\n",
    "\n",
    "   plt.title(\"$\\chi^2$ = \"+str(chi2))\n",
    "   plt.xlabel(\"Tiempo $[s]$\")\n",
    "   plt.ylabel(\"Posición $[cm]$\")\n"
   ]
  },
  {
   "cell_type": "code",
   "execution_count": 14,
   "metadata": {},
   "outputs": [
    {
     "data": {
      "application/vnd.jupyter.widget-view+json": {
       "model_id": "fe399201b2354978ae982ae23ab66009",
       "version_major": 2,
       "version_minor": 0
      },
      "text/plain": [
       "interactive(children=(FloatSlider(value=0.0, description='x0', max=10.0, min=-10.0), FloatSlider(value=0.0, de…"
      ]
     },
     "metadata": {},
     "output_type": "display_data"
    },
    {
     "data": {
      "text/plain": [
       "<function __main__.g(x0, v)>"
      ]
     },
     "execution_count": 14,
     "metadata": {},
     "output_type": "execute_result"
    }
   ],
   "source": [
    "#Esta interación nos permite determinar \"al ojo\" el valor necesario de los coef. para el ajuste.\n",
    "from ipywidgets import interact\n",
    "interact(g, x0 = (-10, 10, 0.1), v=(-10, 10, 0.01)) #"
   ]
  },
  {
   "cell_type": "markdown",
   "metadata": {},
   "source": [
    "Aquí determinamos los coeficientes de forma numérica:"
   ]
  },
  {
   "cell_type": "code",
   "execution_count": 16,
   "metadata": {},
   "outputs": [
    {
     "data": {
      "text/plain": [
       "0.39689746205331555"
      ]
     },
     "execution_count": 16,
     "metadata": {},
     "output_type": "execute_result"
    }
   ],
   "source": [
    "# coef. v\n",
    "a1= (np.mean(posicion*tiempo)- (np.mean(tiempo)) * (np.mean(posicion)))/ (np.mean(tiempo**2)- (np.mean(tiempo)**2))\n",
    "a1"
   ]
  },
  {
   "cell_type": "code",
   "execution_count": 17,
   "metadata": {},
   "outputs": [
    {
     "data": {
      "text/plain": [
       "0.05619171878144513"
      ]
     },
     "execution_count": 17,
     "metadata": {},
     "output_type": "execute_result"
    }
   ],
   "source": [
    "# coef. x0\n",
    "\n",
    "a0 = (np.mean(posicion)) - a1*(np.mean(tiempo))\n",
    "a0"
   ]
  },
  {
   "cell_type": "markdown",
   "metadata": {},
   "source": [
    "Ahora, volvemos a calcular los coeficientes pero usando una función de Numpy ya programada."
   ]
  },
  {
   "cell_type": "code",
   "execution_count": 21,
   "metadata": {},
   "outputs": [
    {
     "name": "stdout",
     "output_type": "stream",
     "text": [
      "coef. v =  0.3968974620533158\n",
      "coef. x0 =  0.05619171878144409\n"
     ]
    }
   ],
   "source": [
    "v, x0 = np.polyfit(tiempo, posicion, 1) \n",
    "#La 1era componente es a1\n",
    "#La 2da componente es a0\n",
    "# La 3ra componente define el grado del polinomio\n",
    "\n",
    "\n",
    "print(\"coef. v = \", v)\n",
    "print(\"coef. x0 = \", x0)\n"
   ]
  }
 ],
 "metadata": {
  "kernelspec": {
   "display_name": "Python 3.10.7 64-bit",
   "language": "python",
   "name": "python3"
  },
  "language_info": {
   "codemirror_mode": {
    "name": "ipython",
    "version": 3
   },
   "file_extension": ".py",
   "mimetype": "text/x-python",
   "name": "python",
   "nbconvert_exporter": "python",
   "pygments_lexer": "ipython3",
   "version": "3.10.7"
  },
  "orig_nbformat": 4,
  "vscode": {
   "interpreter": {
    "hash": "9aaf2f54147aca2b606a4c8998988c78da5f7a7026ef9cfeed74c46e89b87157"
   }
  }
 },
 "nbformat": 4,
 "nbformat_minor": 2
}
