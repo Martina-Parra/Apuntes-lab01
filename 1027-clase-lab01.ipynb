{
 "cells": [
  {
   "cell_type": "markdown",
   "metadata": {},
   "source": [
    "## Método de Mínimos cuadrados no-polinomico \n",
    "#### (con una función general)"
   ]
  },
  {
   "cell_type": "code",
   "execution_count": 34,
   "metadata": {},
   "outputs": [],
   "source": [
    "import numpy as np\n",
    "import matplotlib.pyplot as plt\n",
    "plt.style.use(\"bmh\")"
   ]
  },
  {
   "cell_type": "code",
   "execution_count": 18,
   "metadata": {},
   "outputs": [],
   "source": [
    "from scipy.optimize import curve_fit\n",
    "from ipywidgets import interact"
   ]
  },
  {
   "cell_type": "code",
   "execution_count": 9,
   "metadata": {},
   "outputs": [],
   "source": [
    "curve_fit?"
   ]
  },
  {
   "cell_type": "code",
   "execution_count": 68,
   "metadata": {},
   "outputs": [],
   "source": [
    "x1 = np.genfromtxt(\"ej-ajuste-03.txt\", usecols = 1)\n",
    "t1 = np.genfromtxt(\"ej-ajuste-03.txt\", usecols = 0)"
   ]
  },
  {
   "cell_type": "code",
   "execution_count": 49,
   "metadata": {},
   "outputs": [],
   "source": [
    "def f(x,A,B):\n",
    "    return A*np.exp(-B*x)"
   ]
  },
  {
   "cell_type": "code",
   "execution_count": 63,
   "metadata": {},
   "outputs": [],
   "source": [
    "xx = np.linspace(0,3.5,100)\n",
    "\n",
    "\n",
    "def g(A=1, B=1):\n",
    "    \n",
    "    plt.scatter(t1, x1)\n",
    "    \n",
    "    plt.xlim(0,3.5)\n",
    "    plt.ylim(0, 1.2)\n",
    "    plt.xlabel(\"Tiempo [s] \")\n",
    "    plt.ylabel(\"Posicion [cm]\")\n",
    "\n",
    "    \n",
    "    chi2 = np.sum((t1 - f(x1, A,B))**2)  \n",
    "    print(chi2)\n",
    "    \n",
    "    plt.grid(True)from scipy.optimize import curve_fit \n",
    "    plt.plot(xx, f(xx, A, B), color=\"red\") #ajuste de la curva"
   ]
  },
  {
   "cell_type": "code",
   "execution_count": 64,
   "metadata": {
    "scrolled": true
   },
   "outputs": [
    {
     "data": {
      "application/vnd.jupyter.widget-view+json": {
       "model_id": "741e66f8ea2c4092976d5f06349dda4f",
       "version_major": 2,
       "version_minor": 0
      },
      "text/plain": [
       "interactive(children=(FloatSlider(value=1.0, description='A', max=5.0), FloatSlider(value=1.0, description='B'…"
      ]
     },
     "metadata": {},
     "output_type": "display_data"
    },
    {
     "data": {
      "text/plain": [
       "<function __main__.g(A=1, B=1)>"
      ]
     },
     "execution_count": 64,
     "metadata": {},
     "output_type": "execute_result"
    }
   ],
   "source": [
    "interact(g, A=(0,5,0.1), B=(0,5,0.1))"
   ]
  },
  {
   "cell_type": "code",
   "execution_count": 73,
   "metadata": {
    "scrolled": false
   },
   "outputs": [
    {
     "name": "stdout",
     "output_type": "stream",
     "text": [
      "1.0090419169797906\n",
      "0.3552315134675165\n"
     ]
    }
   ],
   "source": [
    "A_opt, B_opt = curve_fit(f, t1, x1)[0] #entrega los paramétros A y B, (función fácil)\n",
    "\n",
    "print(A_opt)\n",
    "print(B_opt)"
   ]
  },
  {
   "cell_type": "code",
   "execution_count": 67,
   "metadata": {
    "scrolled": true
   },
   "outputs": [
    {
     "name": "stdout",
     "output_type": "stream",
     "text": [
      "24.450859882949285\n"
     ]
    },
    {
     "data": {
      "image/png": "[encoded data removed]",
      "text/plain": [
       "<Figure size 432x288 with 1 Axes>"
      ]
     },
     "metadata": {
      "needs_background": "light"
     },
     "output_type": "display_data"
    }
   ],
   "source": [
    "g(A_opt, B_opt)"
   ]
  },
  {
   "cell_type": "code",
   "execution_count": 69,
   "metadata": {},
   "outputs": [],
   "source": [
    "from scipy.optimize import leastsq  #es más potente pero difícil de usar."
   ]
  },
  {
   "cell_type": "code",
   "execution_count": 82,
   "metadata": {},
   "outputs": [],
   "source": [
    "def res(p, x, y):\n",
    "    return y - (p[0]*np.exp(-p[1]*x))     #residuos: distancia entre los datos(ptos) y la curva ajustada.    "
   ]
  },
  {
   "cell_type": "code",
   "execution_count": 83,
   "metadata": {},
   "outputs": [],
   "source": [
    "p_init = [1.1, 0.4]     #ajuste aprox (al ojo), la función comienza a trabajar con esa \"semilla\""
   ]
  },
  {
   "cell_type": "code",
   "execution_count": 74,
   "metadata": {},
   "outputs": [
    {
     "data": {
      "text/plain": [
       "array([1.0090411 , 0.35523073])"
      ]
     },
     "execution_count": 74,
     "metadata": {},
     "output_type": "execute_result"
    }
   ],
   "source": [
    "leastsq(res, p_init, args=(t1, x1))[0]  #si nos falla curve_fit, debemos usar leastsq"
   ]
  }
 ],
 "metadata": {
  "kernelspec": {
   "display_name": "Python 3",
   "language": "python",
   "name": "python3"
  },
  "language_info": {
   "codemirror_mode": {
    "name": "ipython",
    "version": 3
   },
   "file_extension": ".py",
   "mimetype": "text/x-python",
   "name": "python",
   "nbconvert_exporter": "python",
   "pygments_lexer": "ipython3",
   "version": "3.8.5"
  }
 },
 "nbformat": 4,
 "nbformat_minor": 4
}
