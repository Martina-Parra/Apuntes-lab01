{
 "cells": [
  {
   "cell_type": "markdown",
   "metadata": {},
   "source": [
    "## Ajuste de curvas\n",
    "###  1º ejemplo"
   ]
  },
  {
   "cell_type": "markdown",
   "metadata": {},
   "source": [
    " el comando: polyfit , define internamente el sistema de ecuaciones y lo resuelve. "
   ]
  },
  {
   "cell_type": "code",
   "execution_count": 7,
   "metadata": {},
   "outputs": [],
   "source": [
    "import numpy as np\n",
    "import matplotlib.pyplot as plt\n",
    "plt.style.use(\"bmh\")"
   ]
  },
  {
   "cell_type": "code",
   "execution_count": 22,
   "metadata": {
    "scrolled": true
   },
   "outputs": [],
   "source": [
    "#datos\n",
    "\n",
    "x = np.genfromtxt(\"carro-inclinado.txt\", usecols = 1)\n",
    "t = np.genfromtxt(\"carro-inclinado.txt\", usecols = 0)\n",
    "\n"
   ]
  },
  {
   "cell_type": "markdown",
   "metadata": {},
   "source": [
    "El polinomio que se va a ajustar es: $x(t) = x_0 + v_0 t + \\frac{1}{2} at^2$"
   ]
  },
  {
   "cell_type": "code",
   "execution_count": 44,
   "metadata": {
    "scrolled": true
   },
   "outputs": [
    {
     "data": {
      "text/plain": [
       "array([2.09759606e+01, 1.20218397e-02, 3.57368019e+00])"
      ]
     },
     "execution_count": 44,
     "metadata": {},
     "output_type": "execute_result"
    }
   ],
   "source": [
    "c = np.polyfit(t, x, 2)\n",
    "c"
   ]
  },
  {
   "cell_type": "markdown",
   "metadata": {},
   "source": [
    "notar que, el orden de cada coeficiente es el siguiente: $a \\, , v_0 \\, \\, y \\, \\, x_0$ \\\n",
    "otro comando que usaremos es: np.polyval()"
   ]
  },
  {
   "cell_type": "code",
   "execution_count": 45,
   "metadata": {},
   "outputs": [
    {
     "data": {
      "text/plain": [
       "24.561662667810804"
      ]
     },
     "execution_count": 45,
     "metadata": {},
     "output_type": "execute_result"
    }
   ],
   "source": [
    "np.polyval(c, 1) #evalua un polinomio. En este caso, evalua \"1\" en nuestro polinomio ya ajustado"
   ]
  },
  {
   "cell_type": "code",
   "execution_count": 36,
   "metadata": {},
   "outputs": [],
   "source": [
    "#funcion\n",
    "\n",
    "def g(m=0):\n",
    "    \n",
    "    plt.scatter(t, x)\n",
    "\n",
    "    plt.xlabel(\"Tiempo [s] \")\n",
    "    plt.ylabel(\"Posicion [cm]\")\n",
    "\n",
    "    c = np.polyfit(t, x, m)    #polinomio ajustado, donde m = al grado del polinomio.\n",
    "    chi2 = np.sum((x - np.polyval(c,t))**2)  \n",
    "    print(chi2)\n",
    "\n",
    "    tt = np.linspace(np.min(t), np.max(t), 100)\n",
    "    plt.plot(tt, np.polyval(c, tt)) #ajuste de la curva"
   ]
  },
  {
   "cell_type": "code",
   "execution_count": 37,
   "metadata": {},
   "outputs": [],
   "source": [
    "from ipywidgets import interact"
   ]
  },
  {
   "cell_type": "code",
   "execution_count": 46,
   "metadata": {},
   "outputs": [
    {
     "data": {
      "application/vnd.jupyter.widget-view+json": {
       "model_id": "638732080893425da923ba49b107221f",
       "version_major": 2,
       "version_minor": 0
      },
      "text/plain": [
       "interactive(children=(IntSlider(value=0, description='m', max=20), Output()), _dom_classes=('widget-interact',…"
      ]
     },
     "metadata": {},
     "output_type": "display_data"
    },
    {
     "data": {
      "text/plain": [
       "<function __main__.g(m=0)>"
      ]
     },
     "execution_count": 46,
     "metadata": {},
     "output_type": "execute_result"
    }
   ],
   "source": [
    "#ajuste de curva intractivo, cambiando el orden del polinomio.\n",
    "\n",
    "interact(g, m=(0, 20))  "
   ]
  },
  {
   "cell_type": "markdown",
   "metadata": {},
   "source": [
    "### 2º ejemplo"
   ]
  },
  {
   "cell_type": "code",
   "execution_count": 40,
   "metadata": {},
   "outputs": [],
   "source": [
    "x1 = np.genfromtxt(\"ej-ajuste-03.txt\", usecols = 1)\n",
    "t1 = np.genfromtxt(\"ej-ajuste-03.txt\", usecols = 0)"
   ]
  },
  {
   "cell_type": "code",
   "execution_count": 41,
   "metadata": {},
   "outputs": [],
   "source": [
    "def g1(m=0):\n",
    "    \n",
    "    plt.scatter(t1, x1)\n",
    "\n",
    "    plt.xlabel(\"Tiempo [s] \")\n",
    "    plt.ylabel(\"Posicion [cm]\")\n",
    "\n",
    "    c = np.polyfit(t1, x1, m)    #polinomio ajustado\n",
    "    chi2 = np.sum((x1 - np.polyval(c,t1))**2)  \n",
    "    print(chi2)\n",
    "\n",
    "    tt = np.linspace(np.min(t1), np.max(t1), 100)\n",
    "    plt.plot(tt, np.polyval(c, tt)) #ajuste de la curva"
   ]
  },
  {
   "cell_type": "code",
   "execution_count": 43,
   "metadata": {},
   "outputs": [
    {
     "data": {
      "application/vnd.jupyter.widget-view+json": {
       "model_id": "de578f2043ee4d5591d94aadcc303304",
       "version_major": 2,
       "version_minor": 0
      },
      "text/plain": [
       "interactive(children=(IntSlider(value=0, description='m', max=20), Output()), _dom_classes=('widget-interact',…"
      ]
     },
     "metadata": {},
     "output_type": "display_data"
    },
    {
     "data": {
      "text/plain": [
       "<function __main__.g1(m=0)>"
      ]
     },
     "execution_count": 43,
     "metadata": {},
     "output_type": "execute_result"
    }
   ],
   "source": [
    "interact(g1, m=(0, 20))"
   ]
  }
 ],
 "metadata": {
  "kernelspec": {
   "display_name": "Python 3",
   "language": "python",
   "name": "python3"
  },
  "language_info": {
   "codemirror_mode": {
    "name": "ipython",
    "version": 3
   },
   "file_extension": ".py",
   "mimetype": "text/x-python",
   "name": "python",
   "nbconvert_exporter": "python",
   "pygments_lexer": "ipython3",
   "version": "3.8.5"
  }
 },
 "nbformat": 4,
 "nbformat_minor": 4
}
