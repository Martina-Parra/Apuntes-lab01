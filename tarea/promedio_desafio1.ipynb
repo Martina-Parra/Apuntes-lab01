{
 "cells": [
  {
   "cell_type": "code",
   "execution_count": 35,
   "metadata": {},
   "outputs": [
    {
     "name": "stdout",
     "output_type": "stream",
     "text": [
      "El promedio de las T°max desde 1800 hasta 2011 es: 6.197109684751585\n"
     ]
    }
   ],
   "source": [
    "import numpy as np\n",
    "x = np.genfromtxt(\"stockholm_td_adj.txt\", usecols = 3)\n",
    "z = np.mean(x)\n",
    "\n",
    "print(\"El promedio de las T°max desde 1800 hasta 2011 es: \"+str(z))"
   ]
  }
 ],
 "metadata": {
  "kernelspec": {
   "display_name": "Python 3.9.6 64-bit",
   "language": "python",
   "name": "python3"
  },
  "language_info": {
   "codemirror_mode": {
    "name": "ipython",
    "version": 3
   },
   "file_extension": ".py",
   "mimetype": "text/x-python",
   "name": "python",
   "nbconvert_exporter": "python",
   "pygments_lexer": "ipython3",
   "version": "3.9.6"
  },
  "orig_nbformat": 4,
  "vscode": {
   "interpreter": {
    "hash": "27cfddd9bfee6c35af16a0655e74a2b2230edaeb3ee23625a46034b509a50836"
   }
  }
 },
 "nbformat": 4,
 "nbformat_minor": 2
}
